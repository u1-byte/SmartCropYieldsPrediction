{
  "nbformat": 4,
  "nbformat_minor": 0,
  "metadata": {
    "colab": {
      "name": "ML-Model-2.ipynb",
      "provenance": [],
      "authorship_tag": "ABX9TyMJ7eCD3K0+ENxIgWq54G7L",
      "include_colab_link": true
    },
    "kernelspec": {
      "name": "python3",
      "display_name": "Python 3"
    },
    "language_info": {
      "name": "python"
    }
  },
  "cells": [
    {
      "cell_type": "markdown",
      "metadata": {
        "id": "view-in-github",
        "colab_type": "text"
      },
      "source": [
        "<a href=\"https://colab.research.google.com/github/u1-byte/SmartRicePriceControl/blob/machine-learning/ML_Model_2.ipynb\" target=\"_parent\"><img src=\"https://colab.research.google.com/assets/colab-badge.svg\" alt=\"Open In Colab\"/></a>"
      ]
    },
    {
      "cell_type": "markdown",
      "metadata": {
        "id": "E08FCNdBI07P"
      },
      "source": [
        "MODEL 2 UNTUK MEMPREDIKSI HARGA PANGAN PADA MASYARAKAT\n",
        "\n",
        "1.   Input : Curah hujan, suhu, kelembaban, total lahan panen padi, total produktivitas, tingkat konsumsi, berat impor\n",
        "2.   Output : Harga pangan pada produsen, harga pangan pada pedagang besar, harga pangan pada pasar tradisional, harga pangan pada pasar modern\n",
        "3.   Scope Input dan Output :  Data diambil rata rata dalam tiap bulan kecuali total lahan panen padi, total produktivitas, tingkat konsumsi dan berat impor \n",
        "4.   Sumber : https://dataonline.bmkg.go.id/data_iklim, https://www.bps.go.id/indicator/53/1498/1/luas-panen-produksi-dan-produktivitas-padi-menurut-provinsi.html, https://hargapangan.id/, https://jatim.bps.go.id"
      ]
    },
    {
      "cell_type": "code",
      "metadata": {
        "id": "HN9u944mIpAP"
      },
      "source": [
        "#import library yang dibutuhkan\n",
        "import tensorflow as tf\n",
        "from tensorflow import keras\n",
        "import numpy as np\n",
        "import matplotlib.pyplot as plt\n",
        "from google.colab import files\n",
        "import csv"
      ],
      "execution_count": 1,
      "outputs": []
    }
  ]
}